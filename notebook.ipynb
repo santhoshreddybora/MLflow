{
 "cells": [
  {
   "cell_type": "code",
   "execution_count": 2,
   "metadata": {},
   "outputs": [],
   "source": [
    "import boto3\n",
    "import json\n",
    "import pandas as pd\n",
    "from sklearn import datasets\n",
    "from sklearn.model_selection import train_test_split\n"
   ]
  },
  {
   "cell_type": "code",
   "execution_count": 5,
   "metadata": {},
   "outputs": [],
   "source": [
    "house_data=datasets.fetch_california_housing()\n",
    "df=pd.DataFrame(house_data['data'],columns=house_data['feature_names'])\n",
    "x=df\n",
    "y=house_data.target\n",
    "x_train,x_test,y_train,y_test=train_test_split(x,y,test_size=0.2,random_state=42)\n"
   ]
  },
  {
   "cell_type": "code",
   "execution_count": 42,
   "metadata": {},
   "outputs": [
    {
     "data": {
      "text/plain": [
       "'{\"columns\":[\"alcohol\",\"malic_acid\",\"ash\",\"alcalinity_of_ash\",\"magnesium\",\"total_phenols\",\"flavanoids\",\"nonflavanoid_phenols\",\"proanthocyanins\",\"color_intensity\",\"hue\",\"od280\\\\/od315_of_diluted_wines\",\"proline\"],\"index\":[154],\"data\":[[12.58,1.29,2.1,20.0,103.0,1.48,0.58,0.53,1.4,7.6,0.58,1.55,640.0]]}'"
      ]
     },
     "execution_count": 42,
     "metadata": {},
     "output_type": "execute_result"
    }
   ],
   "source": [
    "pd.DataFrame(x_train).iloc[[12]].to_json(orient='split')"
   ]
  },
  {
   "cell_type": "code",
   "execution_count": 14,
   "metadata": {},
   "outputs": [
    {
     "name": "stderr",
     "output_type": "stream",
     "text": [
      "2024/10/21 15:13:57 INFO mlflow.tracking._tracking_service.client: 🏃 View run HouseData at: http://127.0.0.1:5000/#/experiments/292572241966678808/runs/9bad7772a21d452ea6d88fff486f896f.\n",
      "2024/10/21 15:13:57 INFO mlflow.tracking._tracking_service.client: 🧪 View experiment at: http://127.0.0.1:5000/#/experiments/292572241966678808.\n"
     ]
    }
   ],
   "source": [
    "import mlflow\n",
    "from mlflow.models import infer_signature\n",
    "from sklearn.linear_model import LinearRegression\n",
    "from sklearn.metrics import r2_score,mean_absolute_error,mean_squared_error\n",
    "mlflow.set_experiment('House Price Predcition')\n",
    "mlflow.set_tracking_uri('http://127.0.0.1:5000/')\n",
    "with mlflow.start_run(run_name='HouseData') as run:\n",
    "    lr=LinearRegression()\n",
    "    lr.fit(x_train,y_train)\n",
    "    y_pred=lr.predict(x_test)\n",
    "    accuracy=r2_score(y_test,y_pred)\n",
    "    mae=mean_absolute_error(y_test,y_pred)\n",
    "    mse=mean_squared_error(y_test,y_pred)\n",
    "    mlflow.log_metric('r2_score',accuracy)\n",
    "    mlflow.log_metric('mae',mae)\n",
    "    mlflow.log_metric('mse',mse)\n",
    "    mlflow.log_param('copy_X',lr.get_params()['copy_X'])\n",
    "    mlflow.log_param('fit_intercept',lr.get_params()['fit_intercept'])\n",
    "    # mlflow.log_param('dataset_name','California Housing')\n",
    "    signature=infer_signature(model_input=x_train,model_output=y_pred)\n",
    "    mlflow.sklearn.log_model(lr,'Logistic Regression',signature=signature)\n",
    "    \n",
    "\n"
   ]
  },
  {
   "cell_type": "code",
   "execution_count": null,
   "metadata": {},
   "outputs": [],
   "source": []
  },
  {
   "cell_type": "code",
   "execution_count": 13,
   "metadata": {},
   "outputs": [
    {
     "data": {
      "text/plain": [
       "{'copy_X': True, 'fit_intercept': True, 'n_jobs': None, 'positive': False}"
      ]
     },
     "execution_count": 13,
     "metadata": {},
     "output_type": "execute_result"
    }
   ],
   "source": [
    "lr.get_params()"
   ]
  }
 ],
 "metadata": {
  "kernelspec": {
   "display_name": "mlflow",
   "language": "python",
   "name": "python3"
  },
  "language_info": {
   "codemirror_mode": {
    "name": "ipython",
    "version": 3
   },
   "file_extension": ".py",
   "mimetype": "text/x-python",
   "name": "python",
   "nbconvert_exporter": "python",
   "pygments_lexer": "ipython3",
   "version": "3.8.0"
  }
 },
 "nbformat": 4,
 "nbformat_minor": 2
}
